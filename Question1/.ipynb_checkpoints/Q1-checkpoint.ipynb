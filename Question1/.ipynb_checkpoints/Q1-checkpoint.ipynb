{
 "cells": [
  {
   "cell_type": "markdown",
   "metadata": {},
   "source": [
    "# Question 1 - kNN Classifier\n",
    "\n",
    "In this question, we are creating a dataset of cats and dogs and training the kNN classifier on this dataset.\n",
    "We will also be comparing and finding out which is the best suited value of k (varying from 1 to 20). "
   ]
  },
  {
   "cell_type": "code",
   "execution_count": 1,
   "metadata": {},
   "outputs": [],
   "source": [
    "#Importing all the necessary libraries for this problem\n",
    "import os\n",
    "import pandas as pd\n",
    "import numpy as np \n",
    "import matplotlib.pyplot as plt\n",
    "%matplotlib inline\n",
    "from skimage.io import imread, imshow, imread_collection\n",
    "import cv2\n",
    "import glob\n",
    "\n",
    "#Importing libraries for kNN classifier\n",
    "from sklearn.neighbors import KNeighborsClassifier\n",
    "from sklearn.metrics import classification_report, accuracy_score"
   ]
  },
  {
   "cell_type": "markdown",
   "metadata": {},
   "source": [
    "## Reading & Resizing Image Data\n",
    "\n",
    "Here, we are reading the image data from the 'dog' and 'cat' folders in the training dataset."
   ]
  },
  {
   "cell_type": "code",
   "execution_count": 2,
   "metadata": {},
   "outputs": [
    {
     "name": "stdout",
     "output_type": "stream",
     "text": [
      "Number of Cat images Collected =  50\n"
     ]
    }
   ],
   "source": [
    "#Reading images from the 'cat' folder \n",
    "cat_dir = '../dataset/train/cat/'\n",
    "toread = []\n",
    "toread.extend(glob.glob(cat_dir + '*.jpg')) \n",
    "\n",
    "cat_images = [cv2.imread(i) for i in toread]\n",
    "print(\"Number of Cat images Collected = \", len(cat_images))"
   ]
  },
  {
   "cell_type": "code",
   "execution_count": 3,
   "metadata": {},
   "outputs": [
    {
     "name": "stdout",
     "output_type": "stream",
     "text": [
      "Number of Dog images Collected =  50\n"
     ]
    }
   ],
   "source": [
    "#Reading images from the 'dog' folder\n",
    "dog_dir = '../dataset/train/dog/'\n",
    "toread = []\n",
    "toread.extend(glob.glob(dog_dir + '*.jpg')) \n",
    "\n",
    "dog_images = [cv2.imread(i) for i in toread]\n",
    "print(\"Number of Dog images Collected = \", len(dog_images))"
   ]
  },
  {
   "cell_type": "markdown",
   "metadata": {},
   "source": [
    "Now, we are going to resize the data so that there is uniformity in the images in the dataset, making it easier for us to work on them."
   ]
  },
  {
   "cell_type": "code",
   "execution_count": 4,
   "metadata": {},
   "outputs": [],
   "source": [
    "#Resizing the read images to 30x30\n",
    "\n",
    "for i in range(len(cat_images)):\n",
    "    cat_images[i] = cv2.resize(cat_images[i], dsize=(30, 30))\n",
    "\n",
    "for i in range(len(dog_images)):\n",
    "    dog_images[i] = cv2.resize(dog_images[i], dsize=(30, 30))"
   ]
  },
  {
   "cell_type": "markdown",
   "metadata": {},
   "source": [
    "## Extracting Features\n",
    "\n",
    "We will be using Mean Pixel Value and Variance as the two features.\n",
    "\n",
    "### 1) Mean Pixel Value of Channels"
   ]
  },
  {
   "cell_type": "code",
   "execution_count": 5,
   "metadata": {},
   "outputs": [
    {
     "data": {
      "text/plain": [
       "(30, 30, 3)"
      ]
     },
     "execution_count": 5,
     "metadata": {},
     "output_type": "execute_result"
    }
   ],
   "source": [
    "dog_images[0].shape"
   ]
  },
  {
   "cell_type": "markdown",
   "metadata": {},
   "source": [
    "Here, we can see that when image data is read, it has dimensions (30,30,3), where 3 is the number of channels (Red, Green,Blue).\n",
    "\n",
    "So the number of features will be 30 * 30 * 3 = 2700\n",
    "\n",
    "Instead of using the pixel values from the RGB channels separately, we can generate a new feature matrix of same size 30x30 where all values are initialized to 0. This matrix will store the mean pixel values for the three channels for a particular image.\n",
    "\n",
    "(referred site: https://www.analyticsvidhya.com/blog/2019/08/3-techniques-extract-features-from-image-data-machine-learning-python/)"
   ]
  },
  {
   "cell_type": "code",
   "execution_count": 6,
   "metadata": {},
   "outputs": [
    {
     "name": "stdout",
     "output_type": "stream",
     "text": [
      "Shape of feature_matrix =  (30, 30)\n",
      "Length of dog_mean_feature =  50\n"
     ]
    }
   ],
   "source": [
    "dog_mean_feature = [] # will hold feature matrices for all dog images\n",
    "\n",
    "for image in dog_images:\n",
    "    \n",
    "    # Initialize feature matrix to 0\n",
    "    feature_matrix = np.zeros((30, 30))\n",
    "    \n",
    "    # Finding mean pixel value for each image in dog_images\n",
    "    for i in range(0, image.shape[0]):\n",
    "        for j in range(0, image.shape[1]):\n",
    "            feature_matrix[i][j] = ((int(image[i, j, 0]) + int(image[i, j, 1]) + int(image[i, j, 2]))/3)\n",
    "\n",
    "    dog_mean_feature.append(feature_matrix)\n",
    "\n",
    "print(\"Shape of feature_matrix = \",feature_matrix.shape)\n",
    "print(\"Length of dog_mean_feature = \",len(dog_mean_feature))"
   ]
  },
  {
   "cell_type": "code",
   "execution_count": 7,
   "metadata": {},
   "outputs": [
    {
     "data": {
      "text/plain": [
       "<matplotlib.image.AxesImage at 0x7fe4abba2d10>"
      ]
     },
     "execution_count": 7,
     "metadata": {},
     "output_type": "execute_result"
    },
    {
     "data": {
      "image/png": "[encoded data removed]",
      "text/plain": [
       "<Figure size 432x288 with 1 Axes>"
      ]
     },
     "metadata": {
      "needs_background": "light"
     },
     "output_type": "display_data"
    }
   ],
   "source": [
    "imshow(dog_images[20])"
   ]
  },
  {
   "cell_type": "code",
   "execution_count": 8,
   "metadata": {},
   "outputs": [
    {
     "name": "stderr",
     "output_type": "stream",
     "text": [
      "/opt/anaconda3/lib/python3.7/site-packages/skimage/io/_plugins/matplotlib_plugin.py:150: UserWarning: Float image out of standard range; displaying image with stretched contrast.\n",
      "  lo, hi, cmap = _get_display_range(image)\n"
     ]
    },
    {
     "data": {
      "text/plain": [
       "<matplotlib.image.AxesImage at 0x7fe4a4f45090>"
      ]
     },
     "execution_count": 8,
     "metadata": {},
     "output_type": "execute_result"
    },
    {
     "data": {
      "image/png": "[encoded data removed]",
      "text/plain": [
       "<Figure size 432x288 with 2 Axes>"
      ]
     },
     "metadata": {
      "needs_background": "light"
     },
     "output_type": "display_data"
    }
   ],
   "source": [
    "imshow(dog_mean_feature[20])"
   ]
  },
  {
   "cell_type": "markdown",
   "metadata": {},
   "source": [
    "Similarly, we do the same for cat images"
   ]
  },
  {
   "cell_type": "code",
   "execution_count": 9,
   "metadata": {},
   "outputs": [
    {
     "name": "stdout",
     "output_type": "stream",
     "text": [
      "Shape of feature_matrix =  (30, 30)\n",
      "Length of cat_mean_feature =  50\n"
     ]
    }
   ],
   "source": [
    "cat_mean_feature = [] # will hold feature matrices for all cat images\n",
    "\n",
    "for image in cat_images:\n",
    "    \n",
    "    # Initialize feature matrix to 0\n",
    "    feature_matrix = np.zeros((30, 30))\n",
    "    \n",
    "    # Finding mean pixel value for each image in cat_images\n",
    "    for i in range(0, image.shape[0]):\n",
    "        for j in range(0, image.shape[1]):\n",
    "            feature_matrix[i][j] = ((int(image[i, j, 0]) + int(image[i, j, 1]) + int(image[i, j, 2]))/3)\n",
    "\n",
    "    cat_mean_feature.append(feature_matrix)\n",
    "\n",
    "print(\"Shape of feature_matrix = \",feature_matrix.shape)\n",
    "print(\"Length of cat_mean_feature = \",len(cat_mean_feature))"
   ]
  },
  {
   "cell_type": "code",
   "execution_count": 10,
   "metadata": {},
   "outputs": [
    {
     "data": {
      "text/plain": [
       "<matplotlib.image.AxesImage at 0x7fe4abcbb090>"
      ]
     },
     "execution_count": 10,
     "metadata": {},
     "output_type": "execute_result"
    },
    {
     "data": {
      "image/png": "[encoded data removed]",
      "text/plain": [
       "<Figure size 432x288 with 1 Axes>"
      ]
     },
     "metadata": {
      "needs_background": "light"
     },
     "output_type": "display_data"
    }
   ],
   "source": [
    "imshow(cat_images[13])"
   ]
  },
  {
   "cell_type": "code",
   "execution_count": 11,
   "metadata": {},
   "outputs": [
    {
     "data": {
      "text/plain": [
       "<matplotlib.image.AxesImage at 0x7fe4abcbb7d0>"
      ]
     },
     "execution_count": 11,
     "metadata": {},
     "output_type": "execute_result"
    },
    {
     "data": {
      "image/png": "[encoded data removed]",
      "text/plain": [
       "<Figure size 432x288 with 2 Axes>"
      ]
     },
     "metadata": {
      "needs_background": "light"
     },
     "output_type": "display_data"
    }
   ],
   "source": [
    "imshow(cat_mean_feature[13])"
   ]
  },
  {
   "cell_type": "markdown",
   "metadata": {},
   "source": [
    "### 2) Variance of the Pixel Values\n",
    "\n",
    "Just we like we did extracted the mean features list in the previous section, we are now going to create 2 lists dog_variance_fature and cat_variance_feature that holds the variance features of the dog and cat images respectively."
   ]
  },
  {
   "cell_type": "code",
   "execution_count": 12,
   "metadata": {},
   "outputs": [
    {
     "name": "stdout",
     "output_type": "stream",
     "text": [
      "50\n"
     ]
    }
   ],
   "source": [
    "dog_variance_feature = []\n",
    "\n",
    "for image in dog_images:\n",
    "    \n",
    "     # Initialize feature matrix to 0\n",
    "    feature_matrix = np.zeros((30, 30)) \n",
    "    \n",
    "    # Finding variance of pixel values for each image in dog_images\n",
    "    for i in range(0, image.shape[0]):\n",
    "        for j in range(0, image.shape[1]):\n",
    "            feature_matrix[i][j] = np.var([int(image[i,j,0]), int(image[i,j,1]), int(image[i,j,2])])\n",
    "    \n",
    "    dog_variance_feature.append(feature_matrix)\n",
    "\n",
    "print(len(dog_variance_feature))"
   ]
  },
  {
   "cell_type": "code",
   "execution_count": 13,
   "metadata": {},
   "outputs": [
    {
     "data": {
      "text/plain": [
       "<matplotlib.image.AxesImage at 0x7fe4abfdf3d0>"
      ]
     },
     "execution_count": 13,
     "metadata": {},
     "output_type": "execute_result"
    },
    {
     "data": {
      "image/png": "[encoded data removed]",
      "text/plain": [
       "<Figure size 432x288 with 1 Axes>"
      ]
     },
     "metadata": {
      "needs_background": "light"
     },
     "output_type": "display_data"
    }
   ],
   "source": [
    "imshow(dog_images[20])"
   ]
  },
  {
   "cell_type": "code",
   "execution_count": 14,
   "metadata": {},
   "outputs": [
    {
     "data": {
      "text/plain": [
       "<matplotlib.image.AxesImage at 0x7fe4ac0b7390>"
      ]
     },
     "execution_count": 14,
     "metadata": {},
     "output_type": "execute_result"
    },
    {
     "data": {
      "image/png": "[encoded data removed]",
      "text/plain": [
       "<Figure size 432x288 with 2 Axes>"
      ]
     },
     "metadata": {
      "needs_background": "light"
     },
     "output_type": "display_data"
    }
   ],
   "source": [
    "imshow(dog_variance_feature[20])"
   ]
  },
  {
   "cell_type": "markdown",
   "metadata": {},
   "source": [
    "Similarly for the cat dataset,"
   ]
  },
  {
   "cell_type": "code",
   "execution_count": 15,
   "metadata": {},
   "outputs": [
    {
     "name": "stdout",
     "output_type": "stream",
     "text": [
      "50\n"
     ]
    }
   ],
   "source": [
    "cat_variance_feature = []\n",
    "\n",
    "for image in cat_images:\n",
    "    \n",
    "     # Initialize feature matrix to 0\n",
    "    feature_matrix = np.zeros((30, 30)) \n",
    "    \n",
    "    # Finding variance of pixel values for each image in cat_images\n",
    "    for i in range(0, image.shape[0]):\n",
    "        for j in range(0, image.shape[1]):\n",
    "            feature_matrix[i][j] = np.var([int(image[i,j,0]), int(image[i,j,1]), int(image[i,j,2])])\n",
    "    \n",
    "    cat_variance_feature.append(feature_matrix)\n",
    "\n",
    "print(len(cat_variance_feature))"
   ]
  },
  {
   "cell_type": "code",
   "execution_count": 16,
   "metadata": {},
   "outputs": [
    {
     "data": {
      "text/plain": [
       "<matplotlib.image.AxesImage at 0x7fe4ac3f72d0>"
      ]
     },
     "execution_count": 16,
     "metadata": {},
     "output_type": "execute_result"
    },
    {
     "data": {
      "image/png": "[encoded data removed]",
      "text/plain": [
       "<Figure size 432x288 with 1 Axes>"
      ]
     },
     "metadata": {
      "needs_background": "light"
     },
     "output_type": "display_data"
    }
   ],
   "source": [
    "imshow(cat_images[13])"
   ]
  },
  {
   "cell_type": "code",
   "execution_count": 17,
   "metadata": {},
   "outputs": [
    {
     "data": {
      "text/plain": [
       "<matplotlib.image.AxesImage at 0x7fe4ac480910>"
      ]
     },
     "execution_count": 17,
     "metadata": {},
     "output_type": "execute_result"
    },
    {
     "data": {
      "image/png": "[encoded data removed]",
      "text/plain": [
       "<Figure size 432x288 with 2 Axes>"
      ]
     },
     "metadata": {
      "needs_background": "light"
     },
     "output_type": "display_data"
    }
   ],
   "source": [
    "imshow(cat_variance_feature[13])"
   ]
  },
  {
   "cell_type": "markdown",
   "metadata": {},
   "source": [
    "Furthur, we now flatten the feature matrices and collapse them into 1D arrays and create a new list of 2x30x30 length for dogs and cats. In this new list, the first half will contain the mean feature values and the next half will contain the variance fature values."
   ]
  },
  {
   "cell_type": "code",
   "execution_count": 18,
   "metadata": {},
   "outputs": [
    {
     "name": "stdout",
     "output_type": "stream",
     "text": [
      "Feature list shape for dog image 1 : 1800 and cat: 1800\n",
      "Total entries: 50 50\n"
     ]
    }
   ],
   "source": [
    "# New flattened matrices for dogs and cats\n",
    "flattened_dog_features = []\n",
    "flattened_cat_features = []\n",
    "\n",
    "for i in range(len(dog_images)):\n",
    "    \n",
    "    dog_mean = list(dog_mean_feature[i].flatten())\n",
    "    cat_mean = list(cat_mean_feature[i].flatten())\n",
    "    \n",
    "    dog_variance = list(dog_variance_feature[i].flatten())\n",
    "    cat_variance = list(cat_variance_feature[i].flatten())\n",
    "    \n",
    "    flattened_dog_features.append(dog_mean + dog_variance)\n",
    "    flattened_cat_features.append(cat_mean + cat_variance)\n",
    "    \n",
    "\n",
    "print(f\"Feature list shape for dog image 1 : {len(flattened_dog_features[1])} and cat: {len(flattened_cat_features[1])}\")\n",
    "\n",
    "print(\"Total entries:\", len(flattened_dog_features), len(flattened_cat_features))"
   ]
  },
  {
   "cell_type": "markdown",
   "metadata": {},
   "source": [
    "Then we make a final feature dataframe with class labels and the feature columnn which we are going to use to train the classifier.\n",
    "\n",
    "In the final training data frame, we add class label 1 if it is a dog and 0 if it is a cat"
   ]
  },
  {
   "cell_type": "code",
   "execution_count": 19,
   "metadata": {},
   "outputs": [
    {
     "data": {
      "text/html": [
       "<div>\n",
       "<style scoped>\n",
       "    .dataframe tbody tr th:only-of-type {\n",
       "        vertical-align: middle;\n",
       "    }\n",
       "\n",
       "    .dataframe tbody tr th {\n",
       "        vertical-align: top;\n",
       "    }\n",
       "\n",
       "    .dataframe thead th {\n",
       "        text-align: right;\n",
       "    }\n",
       "</style>\n",
       "<table border=\"1\" class=\"dataframe\">\n",
       "  <thead>\n",
       "    <tr style=\"text-align: right;\">\n",
       "      <th></th>\n",
       "      <th>0</th>\n",
       "      <th>1</th>\n",
       "      <th>2</th>\n",
       "      <th>3</th>\n",
       "      <th>4</th>\n",
       "      <th>5</th>\n",
       "      <th>6</th>\n",
       "      <th>7</th>\n",
       "      <th>8</th>\n",
       "      <th>9</th>\n",
       "      <th>...</th>\n",
       "      <th>1791</th>\n",
       "      <th>1792</th>\n",
       "      <th>1793</th>\n",
       "      <th>1794</th>\n",
       "      <th>1795</th>\n",
       "      <th>1796</th>\n",
       "      <th>1797</th>\n",
       "      <th>1798</th>\n",
       "      <th>1799</th>\n",
       "      <th>class</th>\n",
       "    </tr>\n",
       "  </thead>\n",
       "  <tbody>\n",
       "    <tr>\n",
       "      <th>0</th>\n",
       "      <td>166.000000</td>\n",
       "      <td>163.000000</td>\n",
       "      <td>165.333333</td>\n",
       "      <td>155.333333</td>\n",
       "      <td>147.666667</td>\n",
       "      <td>164.666667</td>\n",
       "      <td>154.000000</td>\n",
       "      <td>155.000000</td>\n",
       "      <td>140.000000</td>\n",
       "      <td>140.000000</td>\n",
       "      <td>...</td>\n",
       "      <td>26.000000</td>\n",
       "      <td>27.555556</td>\n",
       "      <td>18.666667</td>\n",
       "      <td>18.000000</td>\n",
       "      <td>21.555556</td>\n",
       "      <td>42.666667</td>\n",
       "      <td>42.888889</td>\n",
       "      <td>21.555556</td>\n",
       "      <td>72.000000</td>\n",
       "      <td>0</td>\n",
       "    </tr>\n",
       "    <tr>\n",
       "      <th>1</th>\n",
       "      <td>149.333333</td>\n",
       "      <td>148.000000</td>\n",
       "      <td>141.333333</td>\n",
       "      <td>148.666667</td>\n",
       "      <td>133.000000</td>\n",
       "      <td>129.333333</td>\n",
       "      <td>104.000000</td>\n",
       "      <td>42.333333</td>\n",
       "      <td>171.666667</td>\n",
       "      <td>152.666667</td>\n",
       "      <td>...</td>\n",
       "      <td>142.888889</td>\n",
       "      <td>166.888889</td>\n",
       "      <td>181.555556</td>\n",
       "      <td>162.888889</td>\n",
       "      <td>108.666667</td>\n",
       "      <td>97.555556</td>\n",
       "      <td>60.666667</td>\n",
       "      <td>72.666667</td>\n",
       "      <td>108.666667</td>\n",
       "      <td>0</td>\n",
       "    </tr>\n",
       "    <tr>\n",
       "      <th>2</th>\n",
       "      <td>56.333333</td>\n",
       "      <td>43.000000</td>\n",
       "      <td>71.000000</td>\n",
       "      <td>71.333333</td>\n",
       "      <td>66.666667</td>\n",
       "      <td>67.000000</td>\n",
       "      <td>81.000000</td>\n",
       "      <td>61.333333</td>\n",
       "      <td>76.000000</td>\n",
       "      <td>90.333333</td>\n",
       "      <td>...</td>\n",
       "      <td>0.888889</td>\n",
       "      <td>10.888889</td>\n",
       "      <td>44.222222</td>\n",
       "      <td>40.222222</td>\n",
       "      <td>18.000000</td>\n",
       "      <td>20.222222</td>\n",
       "      <td>26.000000</td>\n",
       "      <td>34.888889</td>\n",
       "      <td>29.555556</td>\n",
       "      <td>0</td>\n",
       "    </tr>\n",
       "    <tr>\n",
       "      <th>3</th>\n",
       "      <td>87.666667</td>\n",
       "      <td>90.666667</td>\n",
       "      <td>94.000000</td>\n",
       "      <td>99.000000</td>\n",
       "      <td>115.000000</td>\n",
       "      <td>109.000000</td>\n",
       "      <td>145.666667</td>\n",
       "      <td>146.000000</td>\n",
       "      <td>85.333333</td>\n",
       "      <td>92.333333</td>\n",
       "      <td>...</td>\n",
       "      <td>270.222222</td>\n",
       "      <td>190.888889</td>\n",
       "      <td>13.555556</td>\n",
       "      <td>90.888889</td>\n",
       "      <td>90.888889</td>\n",
       "      <td>118.222222</td>\n",
       "      <td>504.000000</td>\n",
       "      <td>416.222222</td>\n",
       "      <td>469.555556</td>\n",
       "      <td>1</td>\n",
       "    </tr>\n",
       "    <tr>\n",
       "      <th>4</th>\n",
       "      <td>23.333333</td>\n",
       "      <td>22.333333</td>\n",
       "      <td>22.333333</td>\n",
       "      <td>21.333333</td>\n",
       "      <td>21.000000</td>\n",
       "      <td>23.000000</td>\n",
       "      <td>20.000000</td>\n",
       "      <td>20.333333</td>\n",
       "      <td>21.000000</td>\n",
       "      <td>25.000000</td>\n",
       "      <td>...</td>\n",
       "      <td>10.888889</td>\n",
       "      <td>20.666667</td>\n",
       "      <td>8.222222</td>\n",
       "      <td>4.666667</td>\n",
       "      <td>4.666667</td>\n",
       "      <td>4.666667</td>\n",
       "      <td>14.222222</td>\n",
       "      <td>14.222222</td>\n",
       "      <td>0.888889</td>\n",
       "      <td>0</td>\n",
       "    </tr>\n",
       "  </tbody>\n",
       "</table>\n",
       "<p>5 rows × 1801 columns</p>\n",
       "</div>"
      ],
      "text/plain": [
       "            0           1           2           3           4           5  \\\n",
       "0  166.000000  163.000000  165.333333  155.333333  147.666667  164.666667   \n",
       "1  149.333333  148.000000  141.333333  148.666667  133.000000  129.333333   \n",
       "2   56.333333   43.000000   71.000000   71.333333   66.666667   67.000000   \n",
       "3   87.666667   90.666667   94.000000   99.000000  115.000000  109.000000   \n",
       "4   23.333333   22.333333   22.333333   21.333333   21.000000   23.000000   \n",
       "\n",
       "            6           7           8           9  ...        1791  \\\n",
       "0  154.000000  155.000000  140.000000  140.000000  ...   26.000000   \n",
       "1  104.000000   42.333333  171.666667  152.666667  ...  142.888889   \n",
       "2   81.000000   61.333333   76.000000   90.333333  ...    0.888889   \n",
       "3  145.666667  146.000000   85.333333   92.333333  ...  270.222222   \n",
       "4   20.000000   20.333333   21.000000   25.000000  ...   10.888889   \n",
       "\n",
       "         1792        1793        1794        1795        1796        1797  \\\n",
       "0   27.555556   18.666667   18.000000   21.555556   42.666667   42.888889   \n",
       "1  166.888889  181.555556  162.888889  108.666667   97.555556   60.666667   \n",
       "2   10.888889   44.222222   40.222222   18.000000   20.222222   26.000000   \n",
       "3  190.888889   13.555556   90.888889   90.888889  118.222222  504.000000   \n",
       "4   20.666667    8.222222    4.666667    4.666667    4.666667   14.222222   \n",
       "\n",
       "         1798        1799  class  \n",
       "0   21.555556   72.000000      0  \n",
       "1   72.666667  108.666667      0  \n",
       "2   34.888889   29.555556      0  \n",
       "3  416.222222  469.555556      1  \n",
       "4   14.222222    0.888889      0  \n",
       "\n",
       "[5 rows x 1801 columns]"
      ]
     },
     "execution_count": 19,
     "metadata": {},
     "output_type": "execute_result"
    }
   ],
   "source": [
    "# Dataframes made out of flattened feature lists\n",
    "dog_dataframe = pd.DataFrame(flattened_dog_features)\n",
    "cat_dataframe = pd.DataFrame(flattened_cat_features)\n",
    " \n",
    "dog_dataframe['class'] = 1 # Class label 1 for dog\n",
    "cat_dataframe['class'] = 0 # Class label 0 for cat\n",
    "\n",
    "# Concatenate the dataset and creating the final dataframe\n",
    "train_dataframe = pd.concat([dog_dataframe, cat_dataframe])\n",
    "\n",
    "train_dataframe = train_dataframe.sample(frac = 1) \n",
    "train_dataframe.reset_index(drop=True, inplace=True)\n",
    "\n",
    "train_dataframe.head()"
   ]
  },
  {
   "cell_type": "code",
   "execution_count": 20,
   "metadata": {},
   "outputs": [],
   "source": [
    "#Saving the processed test dataframe\n",
    "train_dataframe.to_csv('../dataset/train_data.csv')"
   ]
  },
  {
   "cell_type": "markdown",
   "metadata": {},
   "source": [
    "### Preparing the Test Dataset in the same manner"
   ]
  },
  {
   "cell_type": "code",
   "execution_count": 21,
   "metadata": {},
   "outputs": [
    {
     "name": "stdout",
     "output_type": "stream",
     "text": [
      "Number of Test Images Collected =  20\n"
     ]
    }
   ],
   "source": [
    "# Reading and resizing test data\n",
    "image_dir = '../dataset/test/'\n",
    "\n",
    "toread = []\n",
    "toread.extend(glob.glob(image_dir + '*.jpg'))\n",
    "\n",
    "test_images = [cv2.imread(i) for i in toread]\n",
    "print(\"Number of Test Images Collected = \", len(test_images))\n",
    "\n",
    "for i in range(len(test_images)):\n",
    "    test_images[i] = cv2.resize(test_images[i], dsize=(30, 30))"
   ]
  },
  {
   "cell_type": "code",
   "execution_count": 22,
   "metadata": {},
   "outputs": [],
   "source": [
    "# Mean Pixel Value Feature \n",
    "\n",
    "test_mean_feature = []\n",
    "for image in test_images:\n",
    "    \n",
    "    feature_matrix = np.zeros((30, 30)) \n",
    "    \n",
    "    for i in range(0, image.shape[0]):\n",
    "        for j in range(0, image.shape[1]):\n",
    "            feature_matrix[i][j] = ((int(image[i, j, 0]) + int(image[i, j, 1]) + int(image[i, j, 2]))/3)\n",
    "    \n",
    "    test_mean_feature.append(feature_matrix)\n",
    "\n",
    "# Variance Feature\n",
    "\n",
    "test_variance_feature = []\n",
    "for image in test_images:\n",
    "    \n",
    "    feature_matrix = np.zeros((30, 30)) \n",
    "    \n",
    "    for i in range(0, image.shape[0]):\n",
    "        for j in range(0, image.shape[1]):\n",
    "            feature_matrix[i][j] = np.var([int(image[i,j,0]), int(image[i,j,1]), int(image[i,j,2])])\n",
    "    \n",
    "    test_variance_feature.append(feature_matrix)"
   ]
  },
  {
   "cell_type": "code",
   "execution_count": 23,
   "metadata": {
    "scrolled": true
   },
   "outputs": [
    {
     "name": "stdout",
     "output_type": "stream",
     "text": [
      "Feature list shape for test images:1800\n",
      "Total entries: 20\n"
     ]
    },
    {
     "data": {
      "text/html": [
       "<div>\n",
       "<style scoped>\n",
       "    .dataframe tbody tr th:only-of-type {\n",
       "        vertical-align: middle;\n",
       "    }\n",
       "\n",
       "    .dataframe tbody tr th {\n",
       "        vertical-align: top;\n",
       "    }\n",
       "\n",
       "    .dataframe thead th {\n",
       "        text-align: right;\n",
       "    }\n",
       "</style>\n",
       "<table border=\"1\" class=\"dataframe\">\n",
       "  <thead>\n",
       "    <tr style=\"text-align: right;\">\n",
       "      <th></th>\n",
       "      <th>0</th>\n",
       "      <th>1</th>\n",
       "      <th>2</th>\n",
       "      <th>3</th>\n",
       "      <th>4</th>\n",
       "      <th>5</th>\n",
       "      <th>6</th>\n",
       "      <th>7</th>\n",
       "      <th>8</th>\n",
       "      <th>9</th>\n",
       "      <th>...</th>\n",
       "      <th>1790</th>\n",
       "      <th>1791</th>\n",
       "      <th>1792</th>\n",
       "      <th>1793</th>\n",
       "      <th>1794</th>\n",
       "      <th>1795</th>\n",
       "      <th>1796</th>\n",
       "      <th>1797</th>\n",
       "      <th>1798</th>\n",
       "      <th>1799</th>\n",
       "    </tr>\n",
       "  </thead>\n",
       "  <tbody>\n",
       "    <tr>\n",
       "      <th>0</th>\n",
       "      <td>60.333333</td>\n",
       "      <td>85.000000</td>\n",
       "      <td>110.666667</td>\n",
       "      <td>90.000000</td>\n",
       "      <td>30.333333</td>\n",
       "      <td>36.333333</td>\n",
       "      <td>72.000000</td>\n",
       "      <td>82.666667</td>\n",
       "      <td>91.000000</td>\n",
       "      <td>80.666667</td>\n",
       "      <td>...</td>\n",
       "      <td>309.555556</td>\n",
       "      <td>174.888889</td>\n",
       "      <td>131.555556</td>\n",
       "      <td>54.888889</td>\n",
       "      <td>98.000000</td>\n",
       "      <td>37.555556</td>\n",
       "      <td>113.555556</td>\n",
       "      <td>94.888889</td>\n",
       "      <td>116.666667</td>\n",
       "      <td>49.555556</td>\n",
       "    </tr>\n",
       "    <tr>\n",
       "      <th>1</th>\n",
       "      <td>151.666667</td>\n",
       "      <td>139.000000</td>\n",
       "      <td>154.666667</td>\n",
       "      <td>172.333333</td>\n",
       "      <td>141.666667</td>\n",
       "      <td>146.666667</td>\n",
       "      <td>166.333333</td>\n",
       "      <td>174.333333</td>\n",
       "      <td>167.000000</td>\n",
       "      <td>168.333333</td>\n",
       "      <td>...</td>\n",
       "      <td>42.000000</td>\n",
       "      <td>402.000000</td>\n",
       "      <td>724.222222</td>\n",
       "      <td>818.000000</td>\n",
       "      <td>901.555556</td>\n",
       "      <td>637.555556</td>\n",
       "      <td>0.888889</td>\n",
       "      <td>4.666667</td>\n",
       "      <td>1.555556</td>\n",
       "      <td>4.666667</td>\n",
       "    </tr>\n",
       "    <tr>\n",
       "      <th>2</th>\n",
       "      <td>64.666667</td>\n",
       "      <td>83.666667</td>\n",
       "      <td>95.000000</td>\n",
       "      <td>89.666667</td>\n",
       "      <td>96.000000</td>\n",
       "      <td>80.000000</td>\n",
       "      <td>72.666667</td>\n",
       "      <td>58.000000</td>\n",
       "      <td>66.000000</td>\n",
       "      <td>91.666667</td>\n",
       "      <td>...</td>\n",
       "      <td>0.666667</td>\n",
       "      <td>8.000000</td>\n",
       "      <td>2.888889</td>\n",
       "      <td>1.555556</td>\n",
       "      <td>1.555556</td>\n",
       "      <td>1.555556</td>\n",
       "      <td>2.666667</td>\n",
       "      <td>0.888889</td>\n",
       "      <td>4.666667</td>\n",
       "      <td>16.888889</td>\n",
       "    </tr>\n",
       "    <tr>\n",
       "      <th>3</th>\n",
       "      <td>156.333333</td>\n",
       "      <td>108.000000</td>\n",
       "      <td>151.333333</td>\n",
       "      <td>150.333333</td>\n",
       "      <td>153.666667</td>\n",
       "      <td>150.333333</td>\n",
       "      <td>99.333333</td>\n",
       "      <td>145.333333</td>\n",
       "      <td>152.333333</td>\n",
       "      <td>153.333333</td>\n",
       "      <td>...</td>\n",
       "      <td>939.555556</td>\n",
       "      <td>168.222222</td>\n",
       "      <td>8.222222</td>\n",
       "      <td>8.222222</td>\n",
       "      <td>12.666667</td>\n",
       "      <td>4.666667</td>\n",
       "      <td>1.555556</td>\n",
       "      <td>6.888889</td>\n",
       "      <td>9.555556</td>\n",
       "      <td>0.888889</td>\n",
       "    </tr>\n",
       "    <tr>\n",
       "      <th>4</th>\n",
       "      <td>229.000000</td>\n",
       "      <td>235.000000</td>\n",
       "      <td>252.666667</td>\n",
       "      <td>231.000000</td>\n",
       "      <td>233.333333</td>\n",
       "      <td>232.333333</td>\n",
       "      <td>230.333333</td>\n",
       "      <td>229.333333</td>\n",
       "      <td>229.333333</td>\n",
       "      <td>199.000000</td>\n",
       "      <td>...</td>\n",
       "      <td>62.000000</td>\n",
       "      <td>62.000000</td>\n",
       "      <td>62.000000</td>\n",
       "      <td>62.000000</td>\n",
       "      <td>62.000000</td>\n",
       "      <td>62.000000</td>\n",
       "      <td>62.000000</td>\n",
       "      <td>54.888889</td>\n",
       "      <td>40.222222</td>\n",
       "      <td>32.000000</td>\n",
       "    </tr>\n",
       "  </tbody>\n",
       "</table>\n",
       "<p>5 rows × 1800 columns</p>\n",
       "</div>"
      ],
      "text/plain": [
       "         0           1           2           3           4           5     \\\n",
       "0   60.333333   85.000000  110.666667   90.000000   30.333333   36.333333   \n",
       "1  151.666667  139.000000  154.666667  172.333333  141.666667  146.666667   \n",
       "2   64.666667   83.666667   95.000000   89.666667   96.000000   80.000000   \n",
       "3  156.333333  108.000000  151.333333  150.333333  153.666667  150.333333   \n",
       "4  229.000000  235.000000  252.666667  231.000000  233.333333  232.333333   \n",
       "\n",
       "         6           7           8           9     ...        1790  \\\n",
       "0   72.000000   82.666667   91.000000   80.666667  ...  309.555556   \n",
       "1  166.333333  174.333333  167.000000  168.333333  ...   42.000000   \n",
       "2   72.666667   58.000000   66.000000   91.666667  ...    0.666667   \n",
       "3   99.333333  145.333333  152.333333  153.333333  ...  939.555556   \n",
       "4  230.333333  229.333333  229.333333  199.000000  ...   62.000000   \n",
       "\n",
       "         1791        1792        1793        1794        1795        1796  \\\n",
       "0  174.888889  131.555556   54.888889   98.000000   37.555556  113.555556   \n",
       "1  402.000000  724.222222  818.000000  901.555556  637.555556    0.888889   \n",
       "2    8.000000    2.888889    1.555556    1.555556    1.555556    2.666667   \n",
       "3  168.222222    8.222222    8.222222   12.666667    4.666667    1.555556   \n",
       "4   62.000000   62.000000   62.000000   62.000000   62.000000   62.000000   \n",
       "\n",
       "        1797        1798       1799  \n",
       "0  94.888889  116.666667  49.555556  \n",
       "1   4.666667    1.555556   4.666667  \n",
       "2   0.888889    4.666667  16.888889  \n",
       "3   6.888889    9.555556   0.888889  \n",
       "4  54.888889   40.222222  32.000000  \n",
       "\n",
       "[5 rows x 1800 columns]"
      ]
     },
     "execution_count": 23,
     "metadata": {},
     "output_type": "execute_result"
    }
   ],
   "source": [
    "# Flattening matrices and creating test dataframe\n",
    "\n",
    "flattened_test_features = []\n",
    "\n",
    "for i in range(len(test_images)):\n",
    "    \n",
    "    test_mean = list(test_mean_feature[i].flatten())\n",
    "    \n",
    "    test_variance = list(test_variance_feature[i].flatten())\n",
    "    \n",
    "    flattened_test_features.append(test_mean + test_variance)\n",
    "\n",
    "\n",
    "print(f\"Feature list shape for test images:{len(flattened_test_features[1])}\")\n",
    "\n",
    "print(\"Total entries:\", len(flattened_test_features))\n",
    "\n",
    "test_dataframe = pd.DataFrame(flattened_test_features)\n",
    "test_dataframe.head()"
   ]
  },
  {
   "cell_type": "markdown",
   "metadata": {},
   "source": [
    "Now I'm manually adding the class labels ( 0 for cats and 1 for dogs) for the collected test data into the dataframe."
   ]
  },
  {
   "cell_type": "code",
   "execution_count": 24,
   "metadata": {},
   "outputs": [
    {
     "data": {
      "text/html": [
       "<div>\n",
       "<style scoped>\n",
       "    .dataframe tbody tr th:only-of-type {\n",
       "        vertical-align: middle;\n",
       "    }\n",
       "\n",
       "    .dataframe tbody tr th {\n",
       "        vertical-align: top;\n",
       "    }\n",
       "\n",
       "    .dataframe thead th {\n",
       "        text-align: right;\n",
       "    }\n",
       "</style>\n",
       "<table border=\"1\" class=\"dataframe\">\n",
       "  <thead>\n",
       "    <tr style=\"text-align: right;\">\n",
       "      <th></th>\n",
       "      <th>0</th>\n",
       "      <th>1</th>\n",
       "      <th>2</th>\n",
       "      <th>3</th>\n",
       "      <th>4</th>\n",
       "      <th>5</th>\n",
       "      <th>6</th>\n",
       "      <th>7</th>\n",
       "      <th>8</th>\n",
       "      <th>9</th>\n",
       "      <th>...</th>\n",
       "      <th>1791</th>\n",
       "      <th>1792</th>\n",
       "      <th>1793</th>\n",
       "      <th>1794</th>\n",
       "      <th>1795</th>\n",
       "      <th>1796</th>\n",
       "      <th>1797</th>\n",
       "      <th>1798</th>\n",
       "      <th>1799</th>\n",
       "      <th>class</th>\n",
       "    </tr>\n",
       "  </thead>\n",
       "  <tbody>\n",
       "    <tr>\n",
       "      <th>0</th>\n",
       "      <td>60.333333</td>\n",
       "      <td>85.000000</td>\n",
       "      <td>110.666667</td>\n",
       "      <td>90.000000</td>\n",
       "      <td>30.333333</td>\n",
       "      <td>36.333333</td>\n",
       "      <td>72.000000</td>\n",
       "      <td>82.666667</td>\n",
       "      <td>91.000000</td>\n",
       "      <td>80.666667</td>\n",
       "      <td>...</td>\n",
       "      <td>174.888889</td>\n",
       "      <td>131.555556</td>\n",
       "      <td>54.888889</td>\n",
       "      <td>98.000000</td>\n",
       "      <td>37.555556</td>\n",
       "      <td>113.555556</td>\n",
       "      <td>94.888889</td>\n",
       "      <td>116.666667</td>\n",
       "      <td>49.555556</td>\n",
       "      <td>1</td>\n",
       "    </tr>\n",
       "    <tr>\n",
       "      <th>1</th>\n",
       "      <td>151.666667</td>\n",
       "      <td>139.000000</td>\n",
       "      <td>154.666667</td>\n",
       "      <td>172.333333</td>\n",
       "      <td>141.666667</td>\n",
       "      <td>146.666667</td>\n",
       "      <td>166.333333</td>\n",
       "      <td>174.333333</td>\n",
       "      <td>167.000000</td>\n",
       "      <td>168.333333</td>\n",
       "      <td>...</td>\n",
       "      <td>402.000000</td>\n",
       "      <td>724.222222</td>\n",
       "      <td>818.000000</td>\n",
       "      <td>901.555556</td>\n",
       "      <td>637.555556</td>\n",
       "      <td>0.888889</td>\n",
       "      <td>4.666667</td>\n",
       "      <td>1.555556</td>\n",
       "      <td>4.666667</td>\n",
       "      <td>1</td>\n",
       "    </tr>\n",
       "    <tr>\n",
       "      <th>2</th>\n",
       "      <td>64.666667</td>\n",
       "      <td>83.666667</td>\n",
       "      <td>95.000000</td>\n",
       "      <td>89.666667</td>\n",
       "      <td>96.000000</td>\n",
       "      <td>80.000000</td>\n",
       "      <td>72.666667</td>\n",
       "      <td>58.000000</td>\n",
       "      <td>66.000000</td>\n",
       "      <td>91.666667</td>\n",
       "      <td>...</td>\n",
       "      <td>8.000000</td>\n",
       "      <td>2.888889</td>\n",
       "      <td>1.555556</td>\n",
       "      <td>1.555556</td>\n",
       "      <td>1.555556</td>\n",
       "      <td>2.666667</td>\n",
       "      <td>0.888889</td>\n",
       "      <td>4.666667</td>\n",
       "      <td>16.888889</td>\n",
       "      <td>0</td>\n",
       "    </tr>\n",
       "    <tr>\n",
       "      <th>3</th>\n",
       "      <td>156.333333</td>\n",
       "      <td>108.000000</td>\n",
       "      <td>151.333333</td>\n",
       "      <td>150.333333</td>\n",
       "      <td>153.666667</td>\n",
       "      <td>150.333333</td>\n",
       "      <td>99.333333</td>\n",
       "      <td>145.333333</td>\n",
       "      <td>152.333333</td>\n",
       "      <td>153.333333</td>\n",
       "      <td>...</td>\n",
       "      <td>168.222222</td>\n",
       "      <td>8.222222</td>\n",
       "      <td>8.222222</td>\n",
       "      <td>12.666667</td>\n",
       "      <td>4.666667</td>\n",
       "      <td>1.555556</td>\n",
       "      <td>6.888889</td>\n",
       "      <td>9.555556</td>\n",
       "      <td>0.888889</td>\n",
       "      <td>0</td>\n",
       "    </tr>\n",
       "    <tr>\n",
       "      <th>4</th>\n",
       "      <td>229.000000</td>\n",
       "      <td>235.000000</td>\n",
       "      <td>252.666667</td>\n",
       "      <td>231.000000</td>\n",
       "      <td>233.333333</td>\n",
       "      <td>232.333333</td>\n",
       "      <td>230.333333</td>\n",
       "      <td>229.333333</td>\n",
       "      <td>229.333333</td>\n",
       "      <td>199.000000</td>\n",
       "      <td>...</td>\n",
       "      <td>62.000000</td>\n",
       "      <td>62.000000</td>\n",
       "      <td>62.000000</td>\n",
       "      <td>62.000000</td>\n",
       "      <td>62.000000</td>\n",
       "      <td>62.000000</td>\n",
       "      <td>54.888889</td>\n",
       "      <td>40.222222</td>\n",
       "      <td>32.000000</td>\n",
       "      <td>0</td>\n",
       "    </tr>\n",
       "    <tr>\n",
       "      <th>5</th>\n",
       "      <td>45.666667</td>\n",
       "      <td>51.000000</td>\n",
       "      <td>58.666667</td>\n",
       "      <td>57.333333</td>\n",
       "      <td>52.000000</td>\n",
       "      <td>55.000000</td>\n",
       "      <td>61.333333</td>\n",
       "      <td>52.333333</td>\n",
       "      <td>154.666667</td>\n",
       "      <td>77.666667</td>\n",
       "      <td>...</td>\n",
       "      <td>80.222222</td>\n",
       "      <td>46.888889</td>\n",
       "      <td>46.888889</td>\n",
       "      <td>54.222222</td>\n",
       "      <td>64.666667</td>\n",
       "      <td>120.666667</td>\n",
       "      <td>72.222222</td>\n",
       "      <td>104.000000</td>\n",
       "      <td>132.666667</td>\n",
       "      <td>0</td>\n",
       "    </tr>\n",
       "    <tr>\n",
       "      <th>6</th>\n",
       "      <td>7.666667</td>\n",
       "      <td>5.000000</td>\n",
       "      <td>62.333333</td>\n",
       "      <td>36.333333</td>\n",
       "      <td>29.000000</td>\n",
       "      <td>15.666667</td>\n",
       "      <td>8.666667</td>\n",
       "      <td>15.000000</td>\n",
       "      <td>17.666667</td>\n",
       "      <td>17.333333</td>\n",
       "      <td>...</td>\n",
       "      <td>124.222222</td>\n",
       "      <td>116.222222</td>\n",
       "      <td>114.666667</td>\n",
       "      <td>105.555556</td>\n",
       "      <td>89.555556</td>\n",
       "      <td>96.222222</td>\n",
       "      <td>194.000000</td>\n",
       "      <td>142.888889</td>\n",
       "      <td>99.555556</td>\n",
       "      <td>0</td>\n",
       "    </tr>\n",
       "    <tr>\n",
       "      <th>7</th>\n",
       "      <td>140.333333</td>\n",
       "      <td>143.333333</td>\n",
       "      <td>30.666667</td>\n",
       "      <td>22.000000</td>\n",
       "      <td>47.666667</td>\n",
       "      <td>101.000000</td>\n",
       "      <td>117.333333</td>\n",
       "      <td>120.333333</td>\n",
       "      <td>83.000000</td>\n",
       "      <td>91.000000</td>\n",
       "      <td>...</td>\n",
       "      <td>4714.888889</td>\n",
       "      <td>4042.666667</td>\n",
       "      <td>505.555556</td>\n",
       "      <td>414.888889</td>\n",
       "      <td>326.888889</td>\n",
       "      <td>123.555556</td>\n",
       "      <td>748.666667</td>\n",
       "      <td>188.222222</td>\n",
       "      <td>28.222222</td>\n",
       "      <td>1</td>\n",
       "    </tr>\n",
       "    <tr>\n",
       "      <th>8</th>\n",
       "      <td>189.333333</td>\n",
       "      <td>190.000000</td>\n",
       "      <td>190.000000</td>\n",
       "      <td>189.333333</td>\n",
       "      <td>189.666667</td>\n",
       "      <td>187.666667</td>\n",
       "      <td>186.000000</td>\n",
       "      <td>182.000000</td>\n",
       "      <td>180.000000</td>\n",
       "      <td>178.000000</td>\n",
       "      <td>...</td>\n",
       "      <td>18.666667</td>\n",
       "      <td>4.222222</td>\n",
       "      <td>14.000000</td>\n",
       "      <td>20.222222</td>\n",
       "      <td>20.222222</td>\n",
       "      <td>13.555556</td>\n",
       "      <td>10.666667</td>\n",
       "      <td>6.222222</td>\n",
       "      <td>4.666667</td>\n",
       "      <td>0</td>\n",
       "    </tr>\n",
       "    <tr>\n",
       "      <th>9</th>\n",
       "      <td>132.333333</td>\n",
       "      <td>134.333333</td>\n",
       "      <td>132.333333</td>\n",
       "      <td>135.333333</td>\n",
       "      <td>133.333333</td>\n",
       "      <td>137.333333</td>\n",
       "      <td>86.666667</td>\n",
       "      <td>25.333333</td>\n",
       "      <td>41.333333</td>\n",
       "      <td>42.666667</td>\n",
       "      <td>...</td>\n",
       "      <td>40.222222</td>\n",
       "      <td>46.222222</td>\n",
       "      <td>146.000000</td>\n",
       "      <td>92.666667</td>\n",
       "      <td>338.888889</td>\n",
       "      <td>1930.888889</td>\n",
       "      <td>2198.222222</td>\n",
       "      <td>2121.555556</td>\n",
       "      <td>888.666667</td>\n",
       "      <td>1</td>\n",
       "    </tr>\n",
       "    <tr>\n",
       "      <th>10</th>\n",
       "      <td>31.000000</td>\n",
       "      <td>35.333333</td>\n",
       "      <td>39.666667</td>\n",
       "      <td>38.333333</td>\n",
       "      <td>39.333333</td>\n",
       "      <td>41.000000</td>\n",
       "      <td>40.666667</td>\n",
       "      <td>41.000000</td>\n",
       "      <td>44.333333</td>\n",
       "      <td>42.000000</td>\n",
       "      <td>...</td>\n",
       "      <td>1014.222222</td>\n",
       "      <td>937.555556</td>\n",
       "      <td>1041.555556</td>\n",
       "      <td>990.888889</td>\n",
       "      <td>842.888889</td>\n",
       "      <td>842.888889</td>\n",
       "      <td>892.666667</td>\n",
       "      <td>889.555556</td>\n",
       "      <td>888.666667</td>\n",
       "      <td>1</td>\n",
       "    </tr>\n",
       "    <tr>\n",
       "      <th>11</th>\n",
       "      <td>93.333333</td>\n",
       "      <td>152.000000</td>\n",
       "      <td>166.666667</td>\n",
       "      <td>126.333333</td>\n",
       "      <td>142.333333</td>\n",
       "      <td>133.333333</td>\n",
       "      <td>130.000000</td>\n",
       "      <td>151.666667</td>\n",
       "      <td>168.000000</td>\n",
       "      <td>176.000000</td>\n",
       "      <td>...</td>\n",
       "      <td>32.888889</td>\n",
       "      <td>9.555556</td>\n",
       "      <td>40.222222</td>\n",
       "      <td>2.888889</td>\n",
       "      <td>2.888889</td>\n",
       "      <td>0.666667</td>\n",
       "      <td>0.888889</td>\n",
       "      <td>1.555556</td>\n",
       "      <td>4.222222</td>\n",
       "      <td>1</td>\n",
       "    </tr>\n",
       "    <tr>\n",
       "      <th>12</th>\n",
       "      <td>59.333333</td>\n",
       "      <td>65.000000</td>\n",
       "      <td>63.000000</td>\n",
       "      <td>66.000000</td>\n",
       "      <td>112.000000</td>\n",
       "      <td>166.000000</td>\n",
       "      <td>151.000000</td>\n",
       "      <td>66.333333</td>\n",
       "      <td>83.333333</td>\n",
       "      <td>80.333333</td>\n",
       "      <td>...</td>\n",
       "      <td>32.666667</td>\n",
       "      <td>101.555556</td>\n",
       "      <td>1499.555556</td>\n",
       "      <td>3.555556</td>\n",
       "      <td>18.000000</td>\n",
       "      <td>8.666667</td>\n",
       "      <td>32.666667</td>\n",
       "      <td>22.222222</td>\n",
       "      <td>24.666667</td>\n",
       "      <td>1</td>\n",
       "    </tr>\n",
       "    <tr>\n",
       "      <th>13</th>\n",
       "      <td>26.000000</td>\n",
       "      <td>13.000000</td>\n",
       "      <td>24.333333</td>\n",
       "      <td>27.333333</td>\n",
       "      <td>35.000000</td>\n",
       "      <td>69.000000</td>\n",
       "      <td>63.333333</td>\n",
       "      <td>75.333333</td>\n",
       "      <td>49.333333</td>\n",
       "      <td>70.000000</td>\n",
       "      <td>...</td>\n",
       "      <td>724.222222</td>\n",
       "      <td>266.888889</td>\n",
       "      <td>6.000000</td>\n",
       "      <td>6.222222</td>\n",
       "      <td>1.555556</td>\n",
       "      <td>10.888889</td>\n",
       "      <td>8.666667</td>\n",
       "      <td>14.222222</td>\n",
       "      <td>74.888889</td>\n",
       "      <td>1</td>\n",
       "    </tr>\n",
       "    <tr>\n",
       "      <th>14</th>\n",
       "      <td>95.666667</td>\n",
       "      <td>80.000000</td>\n",
       "      <td>114.000000</td>\n",
       "      <td>90.000000</td>\n",
       "      <td>82.000000</td>\n",
       "      <td>116.666667</td>\n",
       "      <td>76.333333</td>\n",
       "      <td>69.666667</td>\n",
       "      <td>93.000000</td>\n",
       "      <td>108.666667</td>\n",
       "      <td>...</td>\n",
       "      <td>808.666667</td>\n",
       "      <td>1281.555556</td>\n",
       "      <td>1154.000000</td>\n",
       "      <td>1510.888889</td>\n",
       "      <td>1244.666667</td>\n",
       "      <td>833.555556</td>\n",
       "      <td>1122.666667</td>\n",
       "      <td>1490.888889</td>\n",
       "      <td>1164.222222</td>\n",
       "      <td>1</td>\n",
       "    </tr>\n",
       "    <tr>\n",
       "      <th>15</th>\n",
       "      <td>154.000000</td>\n",
       "      <td>146.666667</td>\n",
       "      <td>137.333333</td>\n",
       "      <td>130.333333</td>\n",
       "      <td>122.333333</td>\n",
       "      <td>127.333333</td>\n",
       "      <td>125.333333</td>\n",
       "      <td>130.666667</td>\n",
       "      <td>130.666667</td>\n",
       "      <td>129.666667</td>\n",
       "      <td>...</td>\n",
       "      <td>104.000000</td>\n",
       "      <td>43.555556</td>\n",
       "      <td>46.222222</td>\n",
       "      <td>46.222222</td>\n",
       "      <td>56.000000</td>\n",
       "      <td>49.555556</td>\n",
       "      <td>84.222222</td>\n",
       "      <td>210.666667</td>\n",
       "      <td>149.555556</td>\n",
       "      <td>0</td>\n",
       "    </tr>\n",
       "    <tr>\n",
       "      <th>16</th>\n",
       "      <td>39.000000</td>\n",
       "      <td>42.000000</td>\n",
       "      <td>41.666667</td>\n",
       "      <td>39.666667</td>\n",
       "      <td>34.666667</td>\n",
       "      <td>39.666667</td>\n",
       "      <td>41.666667</td>\n",
       "      <td>41.666667</td>\n",
       "      <td>58.000000</td>\n",
       "      <td>218.000000</td>\n",
       "      <td>...</td>\n",
       "      <td>80.222222</td>\n",
       "      <td>116.222222</td>\n",
       "      <td>139.555556</td>\n",
       "      <td>144.666667</td>\n",
       "      <td>144.666667</td>\n",
       "      <td>162.000000</td>\n",
       "      <td>200.666667</td>\n",
       "      <td>134.888889</td>\n",
       "      <td>134.888889</td>\n",
       "      <td>1</td>\n",
       "    </tr>\n",
       "    <tr>\n",
       "      <th>17</th>\n",
       "      <td>132.333333</td>\n",
       "      <td>121.000000</td>\n",
       "      <td>114.666667</td>\n",
       "      <td>121.666667</td>\n",
       "      <td>113.666667</td>\n",
       "      <td>125.666667</td>\n",
       "      <td>122.666667</td>\n",
       "      <td>103.333333</td>\n",
       "      <td>108.000000</td>\n",
       "      <td>108.000000</td>\n",
       "      <td>...</td>\n",
       "      <td>733.555556</td>\n",
       "      <td>904.222222</td>\n",
       "      <td>729.555556</td>\n",
       "      <td>880.666667</td>\n",
       "      <td>907.555556</td>\n",
       "      <td>880.666667</td>\n",
       "      <td>797.555556</td>\n",
       "      <td>822.888889</td>\n",
       "      <td>528.666667</td>\n",
       "      <td>1</td>\n",
       "    </tr>\n",
       "    <tr>\n",
       "      <th>18</th>\n",
       "      <td>58.666667</td>\n",
       "      <td>68.666667</td>\n",
       "      <td>70.000000</td>\n",
       "      <td>73.000000</td>\n",
       "      <td>65.000000</td>\n",
       "      <td>66.666667</td>\n",
       "      <td>74.333333</td>\n",
       "      <td>72.000000</td>\n",
       "      <td>70.333333</td>\n",
       "      <td>69.333333</td>\n",
       "      <td>...</td>\n",
       "      <td>1860.666667</td>\n",
       "      <td>1998.000000</td>\n",
       "      <td>1905.555556</td>\n",
       "      <td>1824.000000</td>\n",
       "      <td>1744.666667</td>\n",
       "      <td>1748.666667</td>\n",
       "      <td>1770.888889</td>\n",
       "      <td>1980.222222</td>\n",
       "      <td>1924.666667</td>\n",
       "      <td>0</td>\n",
       "    </tr>\n",
       "    <tr>\n",
       "      <th>19</th>\n",
       "      <td>11.333333</td>\n",
       "      <td>20.333333</td>\n",
       "      <td>17.333333</td>\n",
       "      <td>17.000000</td>\n",
       "      <td>28.000000</td>\n",
       "      <td>1.666667</td>\n",
       "      <td>5.000000</td>\n",
       "      <td>10.333333</td>\n",
       "      <td>14.666667</td>\n",
       "      <td>17.333333</td>\n",
       "      <td>...</td>\n",
       "      <td>690.888889</td>\n",
       "      <td>640.666667</td>\n",
       "      <td>586.888889</td>\n",
       "      <td>28.222222</td>\n",
       "      <td>60.222222</td>\n",
       "      <td>632.000000</td>\n",
       "      <td>566.000000</td>\n",
       "      <td>244.666667</td>\n",
       "      <td>440.666667</td>\n",
       "      <td>1</td>\n",
       "    </tr>\n",
       "  </tbody>\n",
       "</table>\n",
       "<p>20 rows × 1801 columns</p>\n",
       "</div>"
      ],
      "text/plain": [
       "             0           1           2           3           4           5  \\\n",
       "0    60.333333   85.000000  110.666667   90.000000   30.333333   36.333333   \n",
       "1   151.666667  139.000000  154.666667  172.333333  141.666667  146.666667   \n",
       "2    64.666667   83.666667   95.000000   89.666667   96.000000   80.000000   \n",
       "3   156.333333  108.000000  151.333333  150.333333  153.666667  150.333333   \n",
       "4   229.000000  235.000000  252.666667  231.000000  233.333333  232.333333   \n",
       "5    45.666667   51.000000   58.666667   57.333333   52.000000   55.000000   \n",
       "6     7.666667    5.000000   62.333333   36.333333   29.000000   15.666667   \n",
       "7   140.333333  143.333333   30.666667   22.000000   47.666667  101.000000   \n",
       "8   189.333333  190.000000  190.000000  189.333333  189.666667  187.666667   \n",
       "9   132.333333  134.333333  132.333333  135.333333  133.333333  137.333333   \n",
       "10   31.000000   35.333333   39.666667   38.333333   39.333333   41.000000   \n",
       "11   93.333333  152.000000  166.666667  126.333333  142.333333  133.333333   \n",
       "12   59.333333   65.000000   63.000000   66.000000  112.000000  166.000000   \n",
       "13   26.000000   13.000000   24.333333   27.333333   35.000000   69.000000   \n",
       "14   95.666667   80.000000  114.000000   90.000000   82.000000  116.666667   \n",
       "15  154.000000  146.666667  137.333333  130.333333  122.333333  127.333333   \n",
       "16   39.000000   42.000000   41.666667   39.666667   34.666667   39.666667   \n",
       "17  132.333333  121.000000  114.666667  121.666667  113.666667  125.666667   \n",
       "18   58.666667   68.666667   70.000000   73.000000   65.000000   66.666667   \n",
       "19   11.333333   20.333333   17.333333   17.000000   28.000000    1.666667   \n",
       "\n",
       "             6           7           8           9  ...         1791  \\\n",
       "0    72.000000   82.666667   91.000000   80.666667  ...   174.888889   \n",
       "1   166.333333  174.333333  167.000000  168.333333  ...   402.000000   \n",
       "2    72.666667   58.000000   66.000000   91.666667  ...     8.000000   \n",
       "3    99.333333  145.333333  152.333333  153.333333  ...   168.222222   \n",
       "4   230.333333  229.333333  229.333333  199.000000  ...    62.000000   \n",
       "5    61.333333   52.333333  154.666667   77.666667  ...    80.222222   \n",
       "6     8.666667   15.000000   17.666667   17.333333  ...   124.222222   \n",
       "7   117.333333  120.333333   83.000000   91.000000  ...  4714.888889   \n",
       "8   186.000000  182.000000  180.000000  178.000000  ...    18.666667   \n",
       "9    86.666667   25.333333   41.333333   42.666667  ...    40.222222   \n",
       "10   40.666667   41.000000   44.333333   42.000000  ...  1014.222222   \n",
       "11  130.000000  151.666667  168.000000  176.000000  ...    32.888889   \n",
       "12  151.000000   66.333333   83.333333   80.333333  ...    32.666667   \n",
       "13   63.333333   75.333333   49.333333   70.000000  ...   724.222222   \n",
       "14   76.333333   69.666667   93.000000  108.666667  ...   808.666667   \n",
       "15  125.333333  130.666667  130.666667  129.666667  ...   104.000000   \n",
       "16   41.666667   41.666667   58.000000  218.000000  ...    80.222222   \n",
       "17  122.666667  103.333333  108.000000  108.000000  ...   733.555556   \n",
       "18   74.333333   72.000000   70.333333   69.333333  ...  1860.666667   \n",
       "19    5.000000   10.333333   14.666667   17.333333  ...   690.888889   \n",
       "\n",
       "           1792         1793         1794         1795         1796  \\\n",
       "0    131.555556    54.888889    98.000000    37.555556   113.555556   \n",
       "1    724.222222   818.000000   901.555556   637.555556     0.888889   \n",
       "2      2.888889     1.555556     1.555556     1.555556     2.666667   \n",
       "3      8.222222     8.222222    12.666667     4.666667     1.555556   \n",
       "4     62.000000    62.000000    62.000000    62.000000    62.000000   \n",
       "5     46.888889    46.888889    54.222222    64.666667   120.666667   \n",
       "6    116.222222   114.666667   105.555556    89.555556    96.222222   \n",
       "7   4042.666667   505.555556   414.888889   326.888889   123.555556   \n",
       "8      4.222222    14.000000    20.222222    20.222222    13.555556   \n",
       "9     46.222222   146.000000    92.666667   338.888889  1930.888889   \n",
       "10   937.555556  1041.555556   990.888889   842.888889   842.888889   \n",
       "11     9.555556    40.222222     2.888889     2.888889     0.666667   \n",
       "12   101.555556  1499.555556     3.555556    18.000000     8.666667   \n",
       "13   266.888889     6.000000     6.222222     1.555556    10.888889   \n",
       "14  1281.555556  1154.000000  1510.888889  1244.666667   833.555556   \n",
       "15    43.555556    46.222222    46.222222    56.000000    49.555556   \n",
       "16   116.222222   139.555556   144.666667   144.666667   162.000000   \n",
       "17   904.222222   729.555556   880.666667   907.555556   880.666667   \n",
       "18  1998.000000  1905.555556  1824.000000  1744.666667  1748.666667   \n",
       "19   640.666667   586.888889    28.222222    60.222222   632.000000   \n",
       "\n",
       "           1797         1798         1799  class  \n",
       "0     94.888889   116.666667    49.555556      1  \n",
       "1      4.666667     1.555556     4.666667      1  \n",
       "2      0.888889     4.666667    16.888889      0  \n",
       "3      6.888889     9.555556     0.888889      0  \n",
       "4     54.888889    40.222222    32.000000      0  \n",
       "5     72.222222   104.000000   132.666667      0  \n",
       "6    194.000000   142.888889    99.555556      0  \n",
       "7    748.666667   188.222222    28.222222      1  \n",
       "8     10.666667     6.222222     4.666667      0  \n",
       "9   2198.222222  2121.555556   888.666667      1  \n",
       "10   892.666667   889.555556   888.666667      1  \n",
       "11     0.888889     1.555556     4.222222      1  \n",
       "12    32.666667    22.222222    24.666667      1  \n",
       "13     8.666667    14.222222    74.888889      1  \n",
       "14  1122.666667  1490.888889  1164.222222      1  \n",
       "15    84.222222   210.666667   149.555556      0  \n",
       "16   200.666667   134.888889   134.888889      1  \n",
       "17   797.555556   822.888889   528.666667      1  \n",
       "18  1770.888889  1980.222222  1924.666667      0  \n",
       "19   566.000000   244.666667   440.666667      1  \n",
       "\n",
       "[20 rows x 1801 columns]"
      ]
     },
     "execution_count": 24,
     "metadata": {},
     "output_type": "execute_result"
    }
   ],
   "source": [
    "test_class = [1,1,0,0,0,0,0,1,0,1,1,1,1,1,1,0,1,1,0,1]\n",
    "test_dataframe.insert(1800,'class',test_class)\n",
    "test_dataframe\n"
   ]
  },
  {
   "cell_type": "code",
   "execution_count": 25,
   "metadata": {},
   "outputs": [],
   "source": [
    "#Saving the processed test dataframe\n",
    "test_dataframe.to_csv('../dataset/test_data.csv')"
   ]
  },
  {
   "cell_type": "markdown",
   "metadata": {},
   "source": [
    "## Building the kNN Classifier from scratch\n",
    "\n",
    "Firstly, we separate the data into X_train, y_train,X_test and y_test so that we can fit it in our model."
   ]
  },
  {
   "cell_type": "code",
   "execution_count": 26,
   "metadata": {},
   "outputs": [
    {
     "data": {
      "text/plain": [
       "((100, 1800), (100,), (20, 1800), (20,))"
      ]
     },
     "execution_count": 26,
     "metadata": {},
     "output_type": "execute_result"
    }
   ],
   "source": [
    "X_train = train_dataframe.drop(['class'], axis=1)\n",
    "y_train = train_dataframe['class']\n",
    "\n",
    "X_test = test_dataframe.drop(['class'], axis=1)\n",
    "y_test = test_dataframe['class']\n",
    "\n",
    "X_train.shape, y_train.shape, X_test.shape, y_test.shape"
   ]
  },
  {
   "cell_type": "markdown",
   "metadata": {},
   "source": [
    "\n",
    "Now, to create the kNN classifier, we can say that it can be broken down into a number of steps that we will see in order.\n",
    "\n",
    "#### 1. Defining a function to calculate the distance between 2 points\n",
    "\n",
    "Here, we are taking the Euclidean distance."
   ]
  },
  {
   "cell_type": "code",
   "execution_count": 27,
   "metadata": {},
   "outputs": [
    {
     "data": {
      "text/plain": [
       "6289.420915854668"
      ]
     },
     "execution_count": 27,
     "metadata": {},
     "output_type": "execute_result"
    }
   ],
   "source": [
    "#Defining function to find Euclidean distance between 2 points a & b\n",
    "\n",
    "def euclidean_distance(a,b):\n",
    "    dim = len(a)\n",
    "    #print(dim)\n",
    "    distance = 0\n",
    "    for i in range(dim):\n",
    "        distance += abs(a[i] - b[i])**2\n",
    "    distance = distance**(1/2)\n",
    "    return distance\n",
    "\n",
    "#testing this function\n",
    "euclidean_distance(a=X_train.iloc[0], b = X_train.iloc[1])"
   ]
  },
  {
   "cell_type": "markdown",
   "metadata": {},
   "source": [
    "#### 2. Using this Euclidean distance function to find the distance between a test point and all known datapoints."
   ]
  },
  {
   "cell_type": "code",
   "execution_count": 28,
   "metadata": {},
   "outputs": [
    {
     "data": {
      "text/html": [
       "<div>\n",
       "<style scoped>\n",
       "    .dataframe tbody tr th:only-of-type {\n",
       "        vertical-align: middle;\n",
       "    }\n",
       "\n",
       "    .dataframe tbody tr th {\n",
       "        vertical-align: top;\n",
       "    }\n",
       "\n",
       "    .dataframe thead th {\n",
       "        text-align: right;\n",
       "    }\n",
       "</style>\n",
       "<table border=\"1\" class=\"dataframe\">\n",
       "  <thead>\n",
       "    <tr style=\"text-align: right;\">\n",
       "      <th></th>\n",
       "      <th>dist</th>\n",
       "    </tr>\n",
       "  </thead>\n",
       "  <tbody>\n",
       "    <tr>\n",
       "      <th>0</th>\n",
       "      <td>14522.307824</td>\n",
       "    </tr>\n",
       "    <tr>\n",
       "      <th>1</th>\n",
       "      <td>13351.530017</td>\n",
       "    </tr>\n",
       "    <tr>\n",
       "      <th>2</th>\n",
       "      <td>14554.346180</td>\n",
       "    </tr>\n",
       "    <tr>\n",
       "      <th>3</th>\n",
       "      <td>16768.832476</td>\n",
       "    </tr>\n",
       "    <tr>\n",
       "      <th>4</th>\n",
       "      <td>15037.885164</td>\n",
       "    </tr>\n",
       "  </tbody>\n",
       "</table>\n",
       "</div>"
      ],
      "text/plain": [
       "           dist\n",
       "0  14522.307824\n",
       "1  13351.530017\n",
       "2  14554.346180\n",
       "3  16768.832476\n",
       "4  15037.885164"
      ]
     },
     "execution_count": 28,
     "metadata": {},
     "output_type": "execute_result"
    }
   ],
   "source": [
    "# Taking an arbitrary test point from the test dataset\n",
    "\n",
    "test_pt = X_test.iloc[3]\n",
    "\n",
    "# Calculating distance between test_pt and all points in X\n",
    "\n",
    "distances = []\n",
    "\n",
    "for i in X_train.index:\n",
    "    \n",
    "    distances.append(euclidean_distance(test_pt, X_train.iloc[i]))\n",
    "    \n",
    "df_dists = pd.DataFrame(data=distances, index=X_train.index, columns=['dist'])\n",
    "df_dists.head()"
   ]
  },
  {
   "cell_type": "markdown",
   "metadata": {},
   "source": [
    "#### 3. Sorting distance measurements to find the points closest to the test point, ie, we are finding the nearest neighbours"
   ]
  },
  {
   "cell_type": "code",
   "execution_count": 29,
   "metadata": {},
   "outputs": [
    {
     "data": {
      "text/html": [
       "<div>\n",
       "<style scoped>\n",
       "    .dataframe tbody tr th:only-of-type {\n",
       "        vertical-align: middle;\n",
       "    }\n",
       "\n",
       "    .dataframe tbody tr th {\n",
       "        vertical-align: top;\n",
       "    }\n",
       "\n",
       "    .dataframe thead th {\n",
       "        text-align: right;\n",
       "    }\n",
       "</style>\n",
       "<table border=\"1\" class=\"dataframe\">\n",
       "  <thead>\n",
       "    <tr style=\"text-align: right;\">\n",
       "      <th></th>\n",
       "      <th>dist</th>\n",
       "    </tr>\n",
       "  </thead>\n",
       "  <tbody>\n",
       "    <tr>\n",
       "      <th>31</th>\n",
       "      <td>12327.277274</td>\n",
       "    </tr>\n",
       "    <tr>\n",
       "      <th>90</th>\n",
       "      <td>12629.803598</td>\n",
       "    </tr>\n",
       "    <tr>\n",
       "      <th>41</th>\n",
       "      <td>12731.615701</td>\n",
       "    </tr>\n",
       "    <tr>\n",
       "      <th>52</th>\n",
       "      <td>12940.828519</td>\n",
       "    </tr>\n",
       "    <tr>\n",
       "      <th>58</th>\n",
       "      <td>13088.045559</td>\n",
       "    </tr>\n",
       "  </tbody>\n",
       "</table>\n",
       "</div>"
      ],
      "text/plain": [
       "            dist\n",
       "31  12327.277274\n",
       "90  12629.803598\n",
       "41  12731.615701\n",
       "52  12940.828519\n",
       "58  13088.045559"
      ]
     },
     "execution_count": 29,
     "metadata": {},
     "output_type": "execute_result"
    }
   ],
   "source": [
    "# Find the 5 nearest neighbors\n",
    "\n",
    "df_nn = df_dists.sort_values(by=['dist'], axis=0)[:5]\n",
    "df_nn"
   ]
  },
  {
   "cell_type": "markdown",
   "metadata": {},
   "source": [
    "#### 4. Using the mode (or most common) of the class labels of these nearest neighbours to predict that of the test point\n",
    "\n",
    "Here, we are using collections.counter to count the number of class labels that match with that of the nearest neighbours. The using the .most_common() function, we return the most commonly occurring class label.\n",
    "\n",
    "Note: If there is a tie between the number of 0s and 1s (class labels) in the most_common function, then the one that was first encountered by the Counter() object will be the one that gets returned. "
   ]
  },
  {
   "cell_type": "code",
   "execution_count": 30,
   "metadata": {},
   "outputs": [
    {
     "data": {
      "text/plain": [
       "0"
      ]
     },
     "execution_count": 30,
     "metadata": {},
     "output_type": "execute_result"
    }
   ],
   "source": [
    "\n",
    "from collections import Counter\n",
    "\n",
    "# Create counter object to track the labels\n",
    "\n",
    "counter = Counter(y_train[df_nn.index])\n",
    "\n",
    "# Get most common label of all the nearest neighbors\n",
    "\n",
    "counter.most_common()[0][0]"
   ]
  },
  {
   "cell_type": "markdown",
   "metadata": {},
   "source": [
    "#### 5. Repeatings steps 1-4 untill all data points are classified\n",
    "\n",
    "Here, we define a function called knn_predict that takes in all of the training and test data and the value of k, returning the predictions that the kNN classifier makes for the test set."
   ]
  },
  {
   "cell_type": "code",
   "execution_count": 31,
   "metadata": {},
   "outputs": [
    {
     "name": "stdout",
     "output_type": "stream",
     "text": [
      "[0, 1, 0, 0, 0, 0, 0, 1, 0, 0, 0, 0, 1, 0, 1, 0, 1, 0, 0, 0]\n",
      "CPU times: user 1min 7s, sys: 28.6 ms, total: 1min 7s\n",
      "Wall time: 1min 7s\n"
     ]
    }
   ],
   "source": [
    "%%time\n",
    "\n",
    "def knn_predict(X_train, X_test, y_train, y_test, k):\n",
    "    \n",
    "    # Counter to help with label voting\n",
    "    from collections import Counter\n",
    "    \n",
    "    y_hat_test = []\n",
    "\n",
    "    for i in X_test.index:\n",
    "        test_point = X_test.iloc[i]\n",
    "        distances = []\n",
    "\n",
    "        for j in X_train.index:\n",
    "            distance = euclidean_distance(test_point, X_train.iloc[j])\n",
    "            distances.append(distance)\n",
    "        \n",
    "        # Store distances in a dataframe\n",
    "        df_dists = pd.DataFrame(data=distances, columns=['dist'], \n",
    "                                index=y_train.index)\n",
    "        \n",
    "        # Sort distances, and only consider the k closest points\n",
    "        df_nn = df_dists.sort_values(by=['dist'], axis=0)[:k]\n",
    "\n",
    "        # Create counter object to track the labels of k closest neighbors\n",
    "        counter = Counter(y_train[df_nn.index])\n",
    "\n",
    "        # Get most common label of all the nearest neighbors\n",
    "        prediction = counter.most_common()[0][0]\n",
    "        \n",
    "        # Append prediction to output list\n",
    "        y_hat_test.append(prediction)\n",
    "        \n",
    "    return y_hat_test\n",
    "\n",
    "\n",
    "# Make predictions on test dataset\n",
    "y_hat_test = knn_predict(X_train, X_test, y_train, y_test, k=5)\n",
    "\n",
    "print(y_hat_test)"
   ]
  },
  {
   "cell_type": "markdown",
   "metadata": {},
   "source": [
    "Now, let us check how accurate our predictions from the kNN classifier are."
   ]
  },
  {
   "cell_type": "code",
   "execution_count": 32,
   "metadata": {},
   "outputs": [
    {
     "name": "stdout",
     "output_type": "stream",
     "text": [
      "0.65\n"
     ]
    }
   ],
   "source": [
    "from sklearn.metrics import accuracy_score\n",
    "\n",
    "print(accuracy_score(y_test, y_hat_test))"
   ]
  },
  {
   "cell_type": "markdown",
   "metadata": {},
   "source": [
    "### Varying k, from 1 to 20 to get the best suited value of k."
   ]
  },
  {
   "cell_type": "code",
   "execution_count": 33,
   "metadata": {},
   "outputs": [
    {
     "name": "stdout",
     "output_type": "stream",
     "text": [
      "k=1, accuracy=50.00%\n",
      "k=2, accuracy=50.00%\n",
      "k=3, accuracy=50.00%\n",
      "k=4, accuracy=50.00%\n",
      "k=5, accuracy=65.00%\n",
      "k=6, accuracy=50.00%\n",
      "k=7, accuracy=55.00%\n",
      "k=8, accuracy=60.00%\n",
      "k=9, accuracy=55.00%\n",
      "k=10, accuracy=65.00%\n",
      "k=11, accuracy=50.00%\n",
      "k=12, accuracy=55.00%\n",
      "k=13, accuracy=45.00%\n",
      "k=14, accuracy=55.00%\n",
      "k=15, accuracy=55.00%\n",
      "k=16, accuracy=60.00%\n",
      "k=17, accuracy=55.00%\n",
      "k=18, accuracy=65.00%\n",
      "k=19, accuracy=50.00%\n",
      "k=20, accuracy=60.00%\n",
      "CPU times: user 24min 7s, sys: 823 ms, total: 24min 8s\n",
      "Wall time: 24min 9s\n"
     ]
    }
   ],
   "source": [
    "%%time\n",
    "\n",
    "k_scores = []\n",
    "\n",
    "for k in range(1,21):\n",
    "    y_predicted_values = knn_predict(X_train, X_test, y_train, y_test, k)\n",
    "    score = accuracy_score(y_test, y_predicted_values)*100\n",
    "    k_scores.append(score)\n",
    "    print(\"k=%d, accuracy=%.2f%%\" % (k, score))"
   ]
  },
  {
   "cell_type": "code",
   "execution_count": 34,
   "metadata": {
    "scrolled": true
   },
   "outputs": [
    {
     "data": {
      "image/png": "[encoded data removed]",
      "text/plain": [
       "<Figure size 864x432 with 1 Axes>"
      ]
     },
     "metadata": {
      "needs_background": "light"
     },
     "output_type": "display_data"
    }
   ],
   "source": [
    "# Plot the k score values\n",
    "x = [i for i in range(1, 21)]\n",
    "y = k_scores\n",
    "\n",
    "plt.figure(figsize=(12, 6))\n",
    "plt.title(\"Accuracy Scores for each k value\")\n",
    "plt.xlabel(\"k-values\")\n",
    "plt.ylabel(\"Accuracy Scores (%)\")\n",
    "plt.xticks(x)\n",
    "plt.plot(x, y)\n",
    "plt.show()"
   ]
  },
  {
   "cell_type": "markdown",
   "metadata": {},
   "source": [
    "#### From this we can see that accuracy is best when k = 5,10,18."
   ]
  },
  {
   "cell_type": "markdown",
   "metadata": {},
   "source": [
    "## Comparing with the kNN Classifier from sklearn\n",
    "\n",
    "Here, we are fitting our test and training data set into the kNeighborsClassifier from sklearn to verify our algorithm for the knn classifier above."
   ]
  },
  {
   "cell_type": "code",
   "execution_count": 35,
   "metadata": {},
   "outputs": [
    {
     "name": "stdout",
     "output_type": "stream",
     "text": [
      "k=1, accuracy=50.00%\n",
      "k=2, accuracy=45.00%\n",
      "k=3, accuracy=50.00%\n",
      "k=4, accuracy=45.00%\n",
      "k=5, accuracy=65.00%\n",
      "k=6, accuracy=50.00%\n",
      "k=7, accuracy=55.00%\n",
      "k=8, accuracy=50.00%\n",
      "k=9, accuracy=55.00%\n",
      "k=10, accuracy=55.00%\n",
      "k=11, accuracy=50.00%\n",
      "k=12, accuracy=50.00%\n",
      "k=13, accuracy=45.00%\n",
      "k=14, accuracy=55.00%\n",
      "k=15, accuracy=55.00%\n",
      "k=16, accuracy=55.00%\n",
      "k=17, accuracy=55.00%\n",
      "k=18, accuracy=55.00%\n",
      "k=19, accuracy=50.00%\n",
      "k=20, accuracy=50.00%\n"
     ]
    }
   ],
   "source": [
    "k_scores = []\n",
    "\n",
    "for k in range(1,21):\n",
    "    \n",
    "    model = KNeighborsClassifier(n_neighbors=k)\n",
    "    model.fit(X_train, y_train)\n",
    "    \n",
    "    # evaluate the model and update the accuracies list\n",
    "    score = model.score(X_test, y_test)\n",
    "    k_scores.append(score)\n",
    "    print(\"k=%d, accuracy=%.2f%%\" % (k, score * 100))"
   ]
  },
  {
   "cell_type": "code",
   "execution_count": 36,
   "metadata": {},
   "outputs": [
    {
     "data": {
      "image/png": "[encoded data removed]",
      "text/plain": [
       "<Figure size 864x576 with 1 Axes>"
      ]
     },
     "metadata": {
      "needs_background": "light"
     },
     "output_type": "display_data"
    }
   ],
   "source": [
    "# Plot the k score values\n",
    "x = [i for i in range(1, 21)]\n",
    "y = k_scores\n",
    "\n",
    "plt.figure(figsize=(12, 8))\n",
    "plt.title(\"Accuracy Scores for each k value\")\n",
    "plt.xlabel(\"k-values\")\n",
    "plt.ylabel(\"Accuracy Scores (%)\")\n",
    "plt.xticks(x)\n",
    "plt.plot(x, y)\n",
    "plt.show()"
   ]
  },
  {
   "cell_type": "code",
   "execution_count": null,
   "metadata": {},
   "outputs": [],
   "source": []
  }
 ],
 "metadata": {
  "kernelspec": {
   "display_name": "Python 3",
   "language": "python",
   "name": "python3"
  },
  "language_info": {
   "codemirror_mode": {
    "name": "ipython",
    "version": 3
   },
   "file_extension": ".py",
   "mimetype": "text/x-python",
   "name": "python",
   "nbconvert_exporter": "python",
   "pygments_lexer": "ipython3",
   "version": "3.7.6"
  }
 },
 "nbformat": 4,
 "nbformat_minor": 4
}
